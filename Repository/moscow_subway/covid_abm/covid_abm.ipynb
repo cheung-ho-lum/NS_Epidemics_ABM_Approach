{
 "cells": [
  {
   "cell_type": "code",
   "execution_count": 2,
   "metadata": {},
   "outputs": [],
   "source": [
    "import pandas as pd"
   ]
  },
  {
   "cell_type": "code",
   "execution_count": 35,
   "metadata": {},
   "outputs": [],
   "source": [
    "routes_df = pd.read_csv('covid_abm/data/routes_data.tsv', sep='\\t')"
   ]
  },
  {
   "cell_type": "code",
   "execution_count": 36,
   "metadata": {},
   "outputs": [
    {
     "data": {
      "text/html": [
       "<div>\n",
       "<style scoped>\n",
       "    .dataframe tbody tr th:only-of-type {\n",
       "        vertical-align: middle;\n",
       "    }\n",
       "\n",
       "    .dataframe tbody tr th {\n",
       "        vertical-align: top;\n",
       "    }\n",
       "\n",
       "    .dataframe thead th {\n",
       "        text-align: right;\n",
       "    }\n",
       "</style>\n",
       "<table border=\"1\" class=\"dataframe\">\n",
       "  <thead>\n",
       "    <tr style=\"text-align: right;\">\n",
       "      <th></th>\n",
       "      <th>id_from</th>\n",
       "      <th>id_to</th>\n",
       "      <th>line_from</th>\n",
       "      <th>station_from</th>\n",
       "      <th>line_to</th>\n",
       "      <th>station_to</th>\n",
       "      <th>route_type</th>\n",
       "      <th>delay</th>\n",
       "    </tr>\n",
       "  </thead>\n",
       "  <tbody>\n",
       "    <tr>\n",
       "      <th>0</th>\n",
       "      <td>0</td>\n",
       "      <td>1</td>\n",
       "      <td>Сокольническая</td>\n",
       "      <td>Бульвар Рокоссовского</td>\n",
       "      <td>Сокольническая</td>\n",
       "      <td>Черкизовская</td>\n",
       "      <td>drive</td>\n",
       "      <td>120</td>\n",
       "    </tr>\n",
       "    <tr>\n",
       "      <th>1</th>\n",
       "      <td>1</td>\n",
       "      <td>0</td>\n",
       "      <td>Сокольническая</td>\n",
       "      <td>Черкизовская</td>\n",
       "      <td>Сокольническая</td>\n",
       "      <td>Бульвар Рокоссовского</td>\n",
       "      <td>drive</td>\n",
       "      <td>120</td>\n",
       "    </tr>\n",
       "    <tr>\n",
       "      <th>2</th>\n",
       "      <td>1</td>\n",
       "      <td>2</td>\n",
       "      <td>Сокольническая</td>\n",
       "      <td>Черкизовская</td>\n",
       "      <td>Сокольническая</td>\n",
       "      <td>Преображенская площадь</td>\n",
       "      <td>drive</td>\n",
       "      <td>240</td>\n",
       "    </tr>\n",
       "    <tr>\n",
       "      <th>3</th>\n",
       "      <td>2</td>\n",
       "      <td>1</td>\n",
       "      <td>Сокольническая</td>\n",
       "      <td>Преображенская площадь</td>\n",
       "      <td>Сокольническая</td>\n",
       "      <td>Черкизовская</td>\n",
       "      <td>drive</td>\n",
       "      <td>240</td>\n",
       "    </tr>\n",
       "    <tr>\n",
       "      <th>4</th>\n",
       "      <td>2</td>\n",
       "      <td>3</td>\n",
       "      <td>Сокольническая</td>\n",
       "      <td>Преображенская площадь</td>\n",
       "      <td>Сокольническая</td>\n",
       "      <td>Сокольники</td>\n",
       "      <td>drive</td>\n",
       "      <td>180</td>\n",
       "    </tr>\n",
       "  </tbody>\n",
       "</table>\n",
       "</div>"
      ],
      "text/plain": [
       "   id_from  id_to       line_from            station_from         line_to  \\\n",
       "0        0      1  Сокольническая   Бульвар Рокоссовского  Сокольническая   \n",
       "1        1      0  Сокольническая            Черкизовская  Сокольническая   \n",
       "2        1      2  Сокольническая            Черкизовская  Сокольническая   \n",
       "3        2      1  Сокольническая  Преображенская площадь  Сокольническая   \n",
       "4        2      3  Сокольническая  Преображенская площадь  Сокольническая   \n",
       "\n",
       "               station_to route_type  delay  \n",
       "0            Черкизовская      drive    120  \n",
       "1   Бульвар Рокоссовского      drive    120  \n",
       "2  Преображенская площадь      drive    240  \n",
       "3            Черкизовская      drive    240  \n",
       "4              Сокольники      drive    180  "
      ]
     },
     "execution_count": 36,
     "metadata": {},
     "output_type": "execute_result"
    }
   ],
   "source": [
    "routes_df.head()"
   ]
  },
  {
   "cell_type": "code",
   "execution_count": 37,
   "metadata": {},
   "outputs": [],
   "source": [
    "import matplotlib.pyplot as plt\n",
    "import networkx as nx"
   ]
  },
  {
   "cell_type": "code",
   "execution_count": 43,
   "metadata": {},
   "outputs": [],
   "source": [
    "G = nx.nx.from_pandas_edgelist(routes_df, 'id_from', 'id_to', ['delay', 'station_from', 'station_to'])"
   ]
  },
  {
   "cell_type": "code",
   "execution_count": 48,
   "metadata": {},
   "outputs": [
    {
     "data": {
      "image/png": "[encoded data removed]",
      "text/plain": [
       "<Figure size 432x288 with 1 Axes>"
      ]
     },
     "metadata": {},
     "output_type": "display_data"
    }
   ],
   "source": [
    "nx.draw(G)"
   ]
  },
  {
   "cell_type": "code",
   "execution_count": 20,
   "metadata": {},
   "outputs": [],
   "source": [
    "%matplotlib inline"
   ]
  },
  {
   "cell_type": "code",
   "execution_count": 25,
   "metadata": {},
   "outputs": [
    {
     "data": {
      "text/plain": [
       "(array([ 0.,  0.,  0.,  0.,  0., 10.,  0.,  0.,  0.,  0.]),\n",
       " array([0.5, 0.6, 0.7, 0.8, 0.9, 1. , 1.1, 1.2, 1.3, 1.4, 1.5]),\n",
       " <a list of 10 Patch objects>)"
      ]
     },
     "execution_count": 25,
     "metadata": {},
     "output_type": "execute_result"
    },
    {
     "data": {
      "image/png": "[encoded data removed]",
      "text/plain": [
       "<Figure size 432x288 with 1 Axes>"
      ]
     },
     "metadata": {
      "needs_background": "light"
     },
     "output_type": "display_data"
    }
   ],
   "source": [
    "import matplotlib.pyplot as plt\n",
    "\n",
    "from covid_abm.covid_abm.model import CovidABMModel\n",
    "\n",
    "\n",
    "model = CovidABMModel(10, 10, 10)\n",
    "for i in range(10):\n",
    "    model.step()\n",
    "    \n",
    "agent_health = [int(a.is_infected) for a in model.schedule.agents]\n",
    "plt.hist(agent_health)"
   ]
  },
  {
   "cell_type": "code",
   "execution_count": 31,
   "metadata": {},
   "outputs": [
    {
     "data": {
      "text/plain": [
       "(array([  0., 100., 100., 100., 100., 100., 100., 100., 100., 200.]),\n",
       " array([ 0,  1,  2,  3,  4,  5,  6,  7,  8,  9, 10]),\n",
       " <a list of 10 Patch objects>)"
      ]
     },
     "execution_count": 31,
     "metadata": {},
     "output_type": "execute_result"
    },
    {
     "data": {
      "image/png": "[encoded data removed]",
      "text/plain": [
       "<Figure size 432x288 with 1 Axes>"
      ]
     },
     "metadata": {
      "needs_background": "light"
     },
     "output_type": "display_data"
    }
   ],
   "source": [
    "all_health = []\n",
    "for j in range(100):\n",
    "    # Run the model\n",
    "    model = CovidABMModel(10, 10, 10)\n",
    "    for i in range(10):\n",
    "        model.step()\n",
    "\n",
    "    # Store the results\n",
    "    count_sick = 0\n",
    "    for agent in model.schedule.agents:\n",
    "        if agent.is_infected:\n",
    "            count_sick += 1\n",
    "        all_health.append(count_sick)\n",
    "\n",
    "plt.hist(all_health, bins=range(max(all_health)+1))"
   ]
  },
  {
   "cell_type": "code",
   "execution_count": 39,
   "metadata": {},
   "outputs": [],
   "source": [
    "stations_df = pd.read_csv('covid_abm/data/stations_data.tsv', sep='\\t')"
   ]
  },
  {
   "cell_type": "code",
   "execution_count": 40,
   "metadata": {},
   "outputs": [
    {
     "data": {
      "text/html": [
       "<div>\n",
       "<style scoped>\n",
       "    .dataframe tbody tr th:only-of-type {\n",
       "        vertical-align: middle;\n",
       "    }\n",
       "\n",
       "    .dataframe tbody tr th {\n",
       "        vertical-align: top;\n",
       "    }\n",
       "\n",
       "    .dataframe thead th {\n",
       "        text-align: right;\n",
       "    }\n",
       "</style>\n",
       "<table border=\"1\" class=\"dataframe\">\n",
       "  <thead>\n",
       "    <tr style=\"text-align: right;\">\n",
       "      <th></th>\n",
       "      <th>id</th>\n",
       "      <th>line_name</th>\n",
       "      <th>station_name</th>\n",
       "      <th>station_type</th>\n",
       "      <th>delay_morning</th>\n",
       "      <th>delay_rush</th>\n",
       "      <th>delay_night</th>\n",
       "      <th>lat</th>\n",
       "      <th>lon</th>\n",
       "    </tr>\n",
       "  </thead>\n",
       "  <tbody>\n",
       "    <tr>\n",
       "      <th>0</th>\n",
       "      <td>0</td>\n",
       "      <td>Сокольническая</td>\n",
       "      <td>Бульвар Рокоссовского</td>\n",
       "      <td>deadend</td>\n",
       "      <td>120</td>\n",
       "      <td>90</td>\n",
       "      <td>360</td>\n",
       "      <td>55.814269</td>\n",
       "      <td>37.735117</td>\n",
       "    </tr>\n",
       "    <tr>\n",
       "      <th>1</th>\n",
       "      <td>1</td>\n",
       "      <td>Сокольническая</td>\n",
       "      <td>Черкизовская</td>\n",
       "      <td>pass</td>\n",
       "      <td>120</td>\n",
       "      <td>90</td>\n",
       "      <td>360</td>\n",
       "      <td>55.802991</td>\n",
       "      <td>37.744825</td>\n",
       "    </tr>\n",
       "    <tr>\n",
       "      <th>2</th>\n",
       "      <td>2</td>\n",
       "      <td>Сокольническая</td>\n",
       "      <td>Преображенская площадь</td>\n",
       "      <td>pass</td>\n",
       "      <td>120</td>\n",
       "      <td>90</td>\n",
       "      <td>360</td>\n",
       "      <td>55.796172</td>\n",
       "      <td>37.715022</td>\n",
       "    </tr>\n",
       "    <tr>\n",
       "      <th>3</th>\n",
       "      <td>3</td>\n",
       "      <td>Сокольническая</td>\n",
       "      <td>Сокольники</td>\n",
       "      <td>pass</td>\n",
       "      <td>120</td>\n",
       "      <td>90</td>\n",
       "      <td>360</td>\n",
       "      <td>55.789200</td>\n",
       "      <td>37.679706</td>\n",
       "    </tr>\n",
       "    <tr>\n",
       "      <th>4</th>\n",
       "      <td>4</td>\n",
       "      <td>Сокольническая</td>\n",
       "      <td>Красносельская</td>\n",
       "      <td>pass</td>\n",
       "      <td>120</td>\n",
       "      <td>90</td>\n",
       "      <td>360</td>\n",
       "      <td>55.779853</td>\n",
       "      <td>37.666077</td>\n",
       "    </tr>\n",
       "  </tbody>\n",
       "</table>\n",
       "</div>"
      ],
      "text/plain": [
       "   id       line_name            station_name station_type  delay_morning  \\\n",
       "0   0  Сокольническая   Бульвар Рокоссовского      deadend            120   \n",
       "1   1  Сокольническая            Черкизовская         pass            120   \n",
       "2   2  Сокольническая  Преображенская площадь         pass            120   \n",
       "3   3  Сокольническая              Сокольники         pass            120   \n",
       "4   4  Сокольническая          Красносельская         pass            120   \n",
       "\n",
       "   delay_rush  delay_night        lat        lon  \n",
       "0          90          360  55.814269  37.735117  \n",
       "1          90          360  55.802991  37.744825  \n",
       "2          90          360  55.796172  37.715022  \n",
       "3          90          360  55.789200  37.679706  \n",
       "4          90          360  55.779853  37.666077  "
      ]
     },
     "execution_count": 40,
     "metadata": {},
     "output_type": "execute_result"
    }
   ],
   "source": [
    "stations_df.head()"
   ]
  },
  {
   "cell_type": "code",
   "execution_count": null,
   "metadata": {},
   "outputs": [],
   "source": []
  }
 ],
 "metadata": {
  "kernelspec": {
   "display_name": "Python 3.8.1 64-bit ('ns': conda)",
   "language": "python",
   "name": "python38164bitnscondaf7cf2969956448d1a9f2563a2ea8251d"
  },
  "language_info": {
   "codemirror_mode": {
    "name": "ipython",
    "version": 3
   },
   "file_extension": ".py",
   "mimetype": "text/x-python",
   "name": "python",
   "nbconvert_exporter": "python",
   "pygments_lexer": "ipython3",
   "version": "3.8.1"
  }
 },
 "nbformat": 4,
 "nbformat_minor": 4
}
