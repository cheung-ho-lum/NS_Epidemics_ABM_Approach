{
 "cells": [
  {
   "cell_type": "code",
   "execution_count": 24,
   "metadata": {},
   "outputs": [],
   "source": [
    "import networkx as nx\n",
    "import pandas as pd\n",
    "import numpy as np\n",
    "import datetime\n",
    "import random\n",
    "import pickle\n",
    "import os\n",
    "import time\n",
    "import statistics as st\n",
    "from decimal import Decimal as D\n",
    "from decimal import ROUND_DOWN\n",
    "\n",
    "import matplotlib.pyplot as plt\n",
    "import matplotlib as mpl\n",
    "import matplotlib.animation as animation\n",
    "\n",
    "from lib.Line import Line\n",
    "from lib.Station import Station\n",
    "from lib.Platform import Platform\n",
    "from lib.Passenger import Passenger\n",
    "from lib.Train import Train\n",
    "from lib.RailwayNetwork import RailwayNetwork"
   ]
  },
  {
   "cell_type": "markdown",
   "metadata": {},
   "source": [
    "## Load raw data of passengers\n",
    "\n",
    "Raw data with the number of in-out passengers per station and time window."
   ]
  },
  {
   "cell_type": "code",
   "execution_count": 2,
   "metadata": {},
   "outputs": [],
   "source": [
    "DATA_PATH = '../Data/madrid/'\n",
    "PARSED_PATH = DATA_PATH + 'parsed/'\n",
    "IMAGES_PATH = DATA_PATH + 'images/'\n",
    "\n",
    "FLOW_IMAGES_PATH = IMAGES_PATH + 'flow/'\n",
    "INFECTION_IMAGES_PATH = IMAGES_PATH + 'infection/'\n",
    "\n",
    "os.makedirs(FLOW_IMAGES_PATH, exist_ok=True)\n",
    "os.makedirs(INFECTION_IMAGES_PATH, exist_ok=True)"
   ]
  },
  {
   "cell_type": "code",
   "execution_count": 3,
   "metadata": {},
   "outputs": [],
   "source": [
    "connections = pd.read_csv(PARSED_PATH + 'station_connections.csv', index_col=False)\n",
    "timetable = pd.read_csv(PARSED_PATH + 'timetable.csv', index_col=False)\n",
    "w_lines = pd.read_csv(PARSED_PATH + 'line_weights.csv', index_col=False)\n",
    "w_times = pd.read_csv(PARSED_PATH + 'times_weights.csv', index_col=False)\n",
    "w_stations = pd.read_csv(PARSED_PATH + 'station_weights.csv', index_col=False)\n",
    "station_coords = pd.read_csv(PARSED_PATH + 'station_coords.csv', index_col=False)"
   ]
  },
  {
   "cell_type": "code",
   "execution_count": 4,
   "metadata": {},
   "outputs": [],
   "source": [
    "# Transform strings to time objects\n",
    "timetable['ARRIVAL_TIME'] = pd.to_datetime(timetable['ARRIVAL_TIME'])\n",
    "timetable['ARRIVAL_TIME'] = [t.time() for t in timetable['ARRIVAL_TIME']]\n",
    "\n",
    "timetable['DEPARTURE_TIME'] = pd.to_datetime(timetable['DEPARTURE_TIME'])\n",
    "timetable['DEPARTURE_TIME'] = [t.time() for t in timetable['DEPARTURE_TIME']]\n",
    "\n",
    "w_times['TIME'] = pd.to_datetime(w_times['TIME'])\n",
    "w_times['TIME'] = [t.time() for t in w_times['TIME']]\n",
    "w_times['WEIGHT_IN'] = [D(w) for w in w_times['WEIGHT_IN']]\n",
    "\n",
    "w_lines['WEIGHT_IN'] = [D(w) for w in w_lines['WEIGHT_IN']]\n",
    "w_lines['WEIGHT_OUT'] = [D(w) for w in w_lines['WEIGHT_OUT']]\n",
    "\n",
    "w_stations['TIME'] = pd.to_datetime(w_stations['TIME'])\n",
    "w_stations['TIME'] = [t.time() for t in w_stations['TIME']]\n",
    "w_stations['WEIGHT_IN'] = [D(w) for w in w_stations['WEIGHT_IN']]\n",
    "w_stations['WEIGHT_OUT'] = [D(w) for w in w_stations['WEIGHT_OUT']]"
   ]
  },
  {
   "cell_type": "code",
   "execution_count": 5,
   "metadata": {},
   "outputs": [],
   "source": [
    "# Cast values\n",
    "connections = connections.astype({'DIRECTION': 'int32'})\n",
    "timetable = timetable.astype({'IS_START': 'int32', 'IS_END': 'int32', 'DIRECTION': 'int32'})\n",
    "station_coords = station_coords.astype({'X': 'float', 'Y': 'float'})"
   ]
  },
  {
   "cell_type": "code",
   "execution_count": 6,
   "metadata": {},
   "outputs": [],
   "source": [
    "# Set indexes\n",
    "connections = connections.set_index(['LINE', 'FROM_STATION'])\n",
    "timetable = timetable.set_index(['LINE', 'STATION_NAME'])\n",
    "w_lines = w_lines.set_index(['LINE'])\n",
    "w_times = w_times.set_index(['TIME'])\n",
    "w_stations = w_stations.set_index(['LINE', 'STATION_NAME', 'TIME'])\n",
    "station_coords = station_coords.set_index(['STATION_NAME'])"
   ]
  },
  {
   "cell_type": "code",
   "execution_count": 7,
   "metadata": {},
   "outputs": [
    {
     "data": {
      "text/html": [
       "<div>\n",
       "<style scoped>\n",
       "    .dataframe tbody tr th:only-of-type {\n",
       "        vertical-align: middle;\n",
       "    }\n",
       "\n",
       "    .dataframe tbody tr th {\n",
       "        vertical-align: top;\n",
       "    }\n",
       "\n",
       "    .dataframe thead th {\n",
       "        text-align: right;\n",
       "    }\n",
       "</style>\n",
       "<table border=\"1\" class=\"dataframe\">\n",
       "  <thead>\n",
       "    <tr style=\"text-align: right;\">\n",
       "      <th></th>\n",
       "      <th></th>\n",
       "      <th></th>\n",
       "      <th>WEIGHT_IN</th>\n",
       "      <th>WEIGHT_OUT</th>\n",
       "    </tr>\n",
       "    <tr>\n",
       "      <th>LINE</th>\n",
       "      <th>STATION_NAME</th>\n",
       "      <th>TIME</th>\n",
       "      <th></th>\n",
       "      <th></th>\n",
       "    </tr>\n",
       "  </thead>\n",
       "  <tbody>\n",
       "    <tr>\n",
       "      <th rowspan=\"5\" valign=\"top\">C10</th>\n",
       "      <th rowspan=\"5\" valign=\"top\">PRINCIPE PIO</th>\n",
       "      <th>00:00:00</th>\n",
       "      <td>0</td>\n",
       "      <td>0.52994446446603182820922484097536653280258178...</td>\n",
       "    </tr>\n",
       "    <tr>\n",
       "      <th>00:01:00</th>\n",
       "      <td>0</td>\n",
       "      <td>0.52994446446603182820922484097536653280258178...</td>\n",
       "    </tr>\n",
       "    <tr>\n",
       "      <th>00:02:00</th>\n",
       "      <td>0</td>\n",
       "      <td>0.52994446446603182820922484097536653280258178...</td>\n",
       "    </tr>\n",
       "    <tr>\n",
       "      <th>00:03:00</th>\n",
       "      <td>0</td>\n",
       "      <td>0.52994446446603182820922484097536653280258178...</td>\n",
       "    </tr>\n",
       "    <tr>\n",
       "      <th>00:04:00</th>\n",
       "      <td>0</td>\n",
       "      <td>0.52994446446603182820922484097536653280258178...</td>\n",
       "    </tr>\n",
       "  </tbody>\n",
       "</table>\n",
       "</div>"
      ],
      "text/plain": [
       "                           WEIGHT_IN  \\\n",
       "LINE STATION_NAME TIME                 \n",
       "C10  PRINCIPE PIO 00:00:00         0   \n",
       "                  00:01:00         0   \n",
       "                  00:02:00         0   \n",
       "                  00:03:00         0   \n",
       "                  00:04:00         0   \n",
       "\n",
       "                                                                   WEIGHT_OUT  \n",
       "LINE STATION_NAME TIME                                                         \n",
       "C10  PRINCIPE PIO 00:00:00  0.52994446446603182820922484097536653280258178...  \n",
       "                  00:01:00  0.52994446446603182820922484097536653280258178...  \n",
       "                  00:02:00  0.52994446446603182820922484097536653280258178...  \n",
       "                  00:03:00  0.52994446446603182820922484097536653280258178...  \n",
       "                  00:04:00  0.52994446446603182820922484097536653280258178...  "
      ]
     },
     "execution_count": 7,
     "metadata": {},
     "output_type": "execute_result"
    }
   ],
   "source": [
    "w_stations.head()"
   ]
  },
  {
   "cell_type": "markdown",
   "metadata": {},
   "source": [
    "## Build dictionaries"
   ]
  },
  {
   "cell_type": "code",
   "execution_count": 8,
   "metadata": {},
   "outputs": [],
   "source": [
    "station_names = connections.reset_index()['FROM_STATION'].unique()"
   ]
  },
  {
   "cell_type": "code",
   "execution_count": 9,
   "metadata": {},
   "outputs": [],
   "source": [
    "# Build dictionary: name of stations -> numerical ID\n",
    "station2id = {st_name:i for i, st_name in enumerate(station_names)}\n",
    "id2station = {i:st_name for i, st_name in enumerate(station_names)}"
   ]
  },
  {
   "cell_type": "code",
   "execution_count": 10,
   "metadata": {},
   "outputs": [
    {
     "data": {
      "text/plain": [
       "Decimal('41.659471990957598563909414224326610565185546875')"
      ]
     },
     "execution_count": 10,
     "metadata": {},
     "output_type": "execute_result"
    }
   ],
   "source": [
    "# Example of getting a value of a line-station in a specific time\n",
    "k_time = datetime.time(15, 0) # 15PM\n",
    "w_stations.loc[('C5', 'ATOCHA', k_time), 'WEIGHT_IN']"
   ]
  },
  {
   "cell_type": "markdown",
   "metadata": {},
   "source": [
    "## Run one-day flow simulation"
   ]
  },
  {
   "cell_type": "markdown",
   "metadata": {},
   "source": [
    "First we need to initialize the objects of the network:"
   ]
  },
  {
   "cell_type": "code",
   "execution_count": 11,
   "metadata": {},
   "outputs": [
    {
     "name": "stdout",
     "output_type": "stream",
     "text": [
      "Network is ready!                                                                   \n"
     ]
    }
   ],
   "source": [
    "# Time of service (set to None if it never closes)\n",
    "open_time = datetime.time(5, 0) # 5AM\n",
    "close_time = datetime.time(1, 0) # 1AM\n",
    "\n",
    "n_passengers = 400000\n",
    "\n",
    "network = RailwayNetwork(n_passengers, open_time, close_time, w_times, w_lines, w_stations, timetable, connections)\n",
    "stations = {st_name:Station(network, st_name, w_stations) for st_name in station_names}\n",
    "lines = {line_name:Line(network, line_name, w_lines) for line_name in w_lines.index}\n",
    "\n",
    "# Once every object is created, add to them to the network and init it\n",
    "network.init_network(lines, stations, debug=True)"
   ]
  },
  {
   "cell_type": "code",
   "execution_count": 12,
   "metadata": {},
   "outputs": [
    {
     "data": {
      "text/plain": [
       "\"with open(PARSED_PATH + 'network.pickle', 'rb') as fp:\\n    network = pickle.load(fp)\""
      ]
     },
     "execution_count": 12,
     "metadata": {},
     "output_type": "execute_result"
    }
   ],
   "source": [
    "# Uncomment if we want to save/load a network state\n",
    "\n",
    "\"\"\"with open(PARSED_PATH + 'network.pickle', 'wb') as fp:\n",
    "    pickle.dump(network, fp, pickle.HIGHEST_PROTOCOL)\"\"\"\n",
    "\n",
    "\"\"\"with open(PARSED_PATH + 'network.pickle', 'rb') as fp:\n",
    "    network = pickle.load(fp)\"\"\""
   ]
  },
  {
   "cell_type": "code",
   "execution_count": 13,
   "metadata": {},
   "outputs": [
    {
     "name": "stdout",
     "output_type": "stream",
     "text": [
      "(Decimal('18111.99999999999739053180306'), Decimal('16222.99999999999725708299526'))\n"
     ]
    }
   ],
   "source": [
    "# Sample station\n",
    "s = Station(network, 'FUENLABRADA', w_stations)\n",
    "print(s.get_weight(line_name='C5'))"
   ]
  },
  {
   "cell_type": "code",
   "execution_count": 14,
   "metadata": {},
   "outputs": [],
   "source": [
    "G = nx.Graph()\n",
    "\n",
    "G.add_nodes_from(station2id.values())\n",
    "\n",
    "# Add attributes to nodes\n",
    "for st_name, node_id in station2id.items():\n",
    "    pos_x = station_coords.at[st_name, 'X']\n",
    "    pos_y = station_coords.at[st_name, 'Y']\n",
    "    G.add_node(node_id, pos=(pos_x, pos_y), station=stations[st_name])\n",
    "\n",
    "# Add edges\n",
    "for i, row in connections.iterrows():\n",
    "    node_from = station2id[i[1]]\n",
    "    node_to = station2id[row['TO_STATION']]\n",
    "    \n",
    "    G.add_edge(node_from, node_to)"
   ]
  },
  {
   "cell_type": "code",
   "execution_count": 15,
   "metadata": {},
   "outputs": [],
   "source": [
    "max_scale = 150 # Max value in the scale of colors\n",
    "\n",
    "# Color mapping for nodes\n",
    "cmap = plt.cm.jet  # define the colormap\n",
    "# extract all colors from the .jet map\n",
    "cmaplist = [cmap(i) for i in range(cmap.N)]\n",
    "# force the first color entry to be grey\n",
    "cmaplist[0] = (.5, .5, .5, 1.0)\n",
    "\n",
    "# create the new map\n",
    "cmap = mpl.colors.LinearSegmentedColormap.from_list('Custom cmap', cmaplist, cmap.N)\n",
    "cmap.set_over('#811a17')\n",
    "\n",
    "# define the bins and normalize\n",
    "bounds = np.linspace(0, max_scale)\n",
    "norm = mpl.colors.BoundaryNorm(bounds, cmap.N)"
   ]
  },
  {
   "cell_type": "code",
   "execution_count": 16,
   "metadata": {},
   "outputs": [
    {
     "data": {
      "text/plain": [
       "<matplotlib.colorbar.Colorbar at 0xa250819d0>"
      ]
     },
     "execution_count": 16,
     "metadata": {},
     "output_type": "execute_result"
    },
    {
     "data": {
      "image/png": "[encoded data removed]",
      "text/plain": [
       "<Figure size 864x864 with 2 Axes>"
      ]
     },
     "metadata": {
      "needs_background": "light"
     },
     "output_type": "display_data"
    }
   ],
   "source": [
    "# This section code is just for debug purposes (to see visually the shape of the network)\n",
    "fig = plt.figure(figsize=(12, 12))\n",
    "ax = fig.add_subplot(1, 1, 1)\n",
    "ax.set_title('%sh' % network.get_time().strftime('%H:%M'))\n",
    "\n",
    "pos = nx.get_node_attributes(G, 'pos')\n",
    "\n",
    "colors = [s.get_n_passengers() for node_id, s in nx.get_node_attributes(G, 'station').items()]\n",
    "\n",
    "ec = nx.draw_networkx_edges(G, pos, alpha=0.2)\n",
    "nc = nx.draw_networkx_nodes(G, pos, nodelist=G.nodes, node_color=colors, \n",
    "                            with_labels=False, node_size=100, cmap=cmap, norm=norm, vmax=max_scale)\n",
    "fig.colorbar(nc, extend='max')"
   ]
  },
  {
   "cell_type": "markdown",
   "metadata": {},
   "source": [
    "Then we can proceed to run the simulation:"
   ]
  },
  {
   "cell_type": "code",
   "execution_count": 17,
   "metadata": {},
   "outputs": [
    {
     "name": "stdout",
     "output_type": "stream",
     "text": [
      "1200 of 1200           Finish!           \n"
     ]
    }
   ],
   "source": [
    "# Display how the number of passengers change on each station\n",
    "\n",
    "n_iters = 20 * 60 # 20 hours * 60 minutes\n",
    "\n",
    "pos = nx.get_node_attributes(G, 'pos')\n",
    "\n",
    "network.reset()\n",
    "\n",
    "for i in range(n_iters):\n",
    "    print('\\r%d of %d' % (i + 1, n_iters), ' '*10, end='')\n",
    "    \n",
    "    network.step()\n",
    "    \n",
    "    fig = plt.figure(figsize=(12,12))\n",
    "    ax = fig.add_subplot(1,1,1)\n",
    "    \n",
    "    ax.set_title('%sh' % network.get_time().strftime('%H:%M'))\n",
    "\n",
    "    colors = [s.get_n_passengers() for node_id, s in nx.get_node_attributes(G, 'station').items()]\n",
    "\n",
    "    ec = nx.draw_networkx_edges(G, pos, alpha=0.2)\n",
    "    nc = nx.draw_networkx_nodes(G, pos, nodelist=G.nodes, node_color=colors, \n",
    "                                with_labels=False, node_size=100, cmap=cmap, norm=norm, vmax=max_scale)\n",
    "    fig.colorbar(nc, extend='max', ax=ax)\n",
    "    \n",
    "    fig.savefig('%s%s.png' % (FLOW_IMAGES_PATH, network.get_time().strftime('%H-%M')))\n",
    "    plt.close(fig)\n",
    "    \n",
    "print('')\n",
    "print('Simulation finished!', ' '*10)"
   ]
  },
  {
   "cell_type": "markdown",
   "metadata": {},
   "source": [
    "## Experiment infections\n",
    "\n",
    "Based on the results published by Los Alamos National Laboratory (https://wwwnc.cdc.gov/eid/article/26/7/20-0282_article), the value $R_0$ should be around $5.7$, so we run a few tests to find a value for $p$.\n",
    "\n",
    "Using a simple SEI model (without *recovered* state), each infected passenger is able to infect other passengers (who are in the same place as the infected one) with a probability $p$.\n",
    "\n",
    "Once the day has finished, we compute the global $R_0$ as the mean of the number of infections."
   ]
  },
  {
   "cell_type": "code",
   "execution_count": 18,
   "metadata": {},
   "outputs": [
    {
     "name": "stdout",
     "output_type": "stream",
     "text": [
      "----------\n",
      "P value: 0.0010\n",
      "Step 1200 of 1200 (repetition 1 of 1)           \n",
      "R0 value: 2.1175\n",
      "----------\n",
      "P value: 0.0025\n",
      "Step 1200 of 1200 (repetition 1 of 1)           \n",
      "R0 value: 3.6630\n",
      "----------\n",
      "P value: 0.0050\n"
     ]
    },
    {
     "name": "stderr",
     "output_type": "stream",
     "text": [
      "Exception ignored in: <function RailwayNetwork.__del__ at 0x11a787200>\n",
      "Traceback (most recent call last):\n",
      "  File \"/Users/dimasdmm/Documents/Master/Network Science/NS_Epidemics_ABM_Approach/Repository/NoteBooksAbm/lib/RailwayNetwork.py\", line 286, in __del__\n",
      "    del self.stations[:]\n",
      "TypeError: unhashable type: 'slice'\n"
     ]
    },
    {
     "name": "stdout",
     "output_type": "stream",
     "text": [
      "Step 1200 of 1200 (repetition 1 of 1)           \n",
      "R0 value: 5.0429\n",
      "----------\n",
      "P value: 0.0100\n"
     ]
    },
    {
     "name": "stderr",
     "output_type": "stream",
     "text": [
      "Exception ignored in: <function RailwayNetwork.__del__ at 0x11a787200>\n",
      "Traceback (most recent call last):\n",
      "  File \"/Users/dimasdmm/Documents/Master/Network Science/NS_Epidemics_ABM_Approach/Repository/NoteBooksAbm/lib/RailwayNetwork.py\", line 286, in __del__\n",
      "    del self.stations[:]\n",
      "TypeError: unhashable type: 'slice'\n"
     ]
    },
    {
     "name": "stdout",
     "output_type": "stream",
     "text": [
      "Step 1200 of 1200 (repetition 1 of 1)           \n",
      "R0 value: 6.3106\n",
      "----------\n",
      "P value: 0.0250\n"
     ]
    },
    {
     "name": "stderr",
     "output_type": "stream",
     "text": [
      "Exception ignored in: <function RailwayNetwork.__del__ at 0x11a787200>\n",
      "Traceback (most recent call last):\n",
      "  File \"/Users/dimasdmm/Documents/Master/Network Science/NS_Epidemics_ABM_Approach/Repository/NoteBooksAbm/lib/RailwayNetwork.py\", line 286, in __del__\n",
      "    del self.stations[:]\n",
      "TypeError: unhashable type: 'slice'\n"
     ]
    },
    {
     "name": "stdout",
     "output_type": "stream",
     "text": [
      "Step 1200 of 1200 (repetition 1 of 1)           \n",
      "R0 value: 7.5330\n",
      "----------\n",
      "P value: 0.0500\n"
     ]
    },
    {
     "name": "stderr",
     "output_type": "stream",
     "text": [
      "Exception ignored in: <function RailwayNetwork.__del__ at 0x11a787200>\n",
      "Traceback (most recent call last):\n",
      "  File \"/Users/dimasdmm/Documents/Master/Network Science/NS_Epidemics_ABM_Approach/Repository/NoteBooksAbm/lib/RailwayNetwork.py\", line 286, in __del__\n",
      "    del self.stations[:]\n",
      "TypeError: unhashable type: 'slice'\n"
     ]
    },
    {
     "name": "stdout",
     "output_type": "stream",
     "text": [
      "Step 1200 of 1200 (repetition 1 of 1)           \n",
      "R0 value: 8.1610\n",
      "Finish!           \n"
     ]
    }
   ],
   "source": [
    "# Initial variables\n",
    "open_time = datetime.time(5, 0) # 5AM\n",
    "close_time = datetime.time(1, 0) # 1AM\n",
    "n_passengers = 500000\n",
    "n_initial_infected = 50000 # 10% of infected passengers\n",
    "n_iters = 20 * 60 # 20 hours * 60 minutes\n",
    "\n",
    "pos = nx.get_node_attributes(G, 'pos')\n",
    "\n",
    "p_set = [0.001, 0.0025, 0.005, 0.01, 0.025, 0.05]\n",
    "r0_set = []\n",
    "total_repeat = 1\n",
    "\n",
    "for p in p_set:\n",
    "    print('-' * 10)\n",
    "    print('P value: %.4f' % p)\n",
    "\n",
    "    try:\n",
    "        if network is not None:\n",
    "            del network\n",
    "    except:\n",
    "        # Var not defined\n",
    "        pass\n",
    "    \n",
    "    # Build network objects\n",
    "    network = RailwayNetwork(n_passengers, open_time, close_time, w_times, w_lines, w_stations,\n",
    "                             timetable, connections, n_initial_infected, p, auto_reset=False)\n",
    "    stations = {st_name:Station(network, st_name, w_stations) for st_name in station_names}\n",
    "    lines = {line_name:Line(network, line_name, w_lines) for line_name in w_lines.index}\n",
    "    network.init_network(lines, stations)\n",
    "\n",
    "    r0_loop = []\n",
    "    \n",
    "    for i_repeat in range(total_repeat):\n",
    "        network.reset()\n",
    "        for i in range(n_iters):\n",
    "            print('\\rStep %d of %d (repetition %d of %d)' % (i + 1, n_iters, i_repeat + 1, total_repeat), ' '*10, end='')\n",
    "            network.step()\n",
    "        \n",
    "        # Compute R0 value\n",
    "        infected_passengers = [passenger for passenger in network.get_passengers() if passenger.get_infected_status() == 2]\n",
    "        for passenger in infected_passengers:\n",
    "            r0_loop.append(passenger.get_n_infections())\n",
    "    \n",
    "    print('')\n",
    "    \n",
    "    # R0 is the average of infected people per time step (i.e. per day)\n",
    "    r0_set.append(st.mean(r0_loop) if len(r0_loop) > 0 else 0)\n",
    "    print('R0 value: %.4f' % r0_set[-1])\n",
    "    \n",
    "    # Free memory\n",
    "    del network\n",
    "\n",
    "print('')\n",
    "print('Simulation finished!', ' '*10)"
   ]
  },
  {
   "cell_type": "code",
   "execution_count": 19,
   "metadata": {},
   "outputs": [
    {
     "name": "stdout",
     "output_type": "stream",
     "text": [
      "[0.001, 0.0025, 0.005, 0.01, 0.025, 0.05]\n",
      "[2.11754, 3.66298, 5.04288, 6.31064, 7.53296, 8.16104]\n"
     ]
    }
   ],
   "source": [
    "print(p_set)\n",
    "print(r0_set)"
   ]
  },
  {
   "cell_type": "markdown",
   "metadata": {},
   "source": [
    "# Run one-day infection simulation\n",
    "\n",
    "Once we have an idea of the $p$ value to use, we proceed to run a one-day infection simulation. Note that the code is almost the same as in the *flow simulation*."
   ]
  },
  {
   "cell_type": "code",
   "execution_count": 11,
   "metadata": {},
   "outputs": [
    {
     "name": "stdout",
     "output_type": "stream",
     "text": [
      "Network is ready!                                                                                                                                                                                                                                                                \n"
     ]
    }
   ],
   "source": [
    "# Time of service (set to None if it never closes)\n",
    "open_time = datetime.time(5, 0) # 5AM\n",
    "close_time = datetime.time(1, 0) # 1AM\n",
    "n_passengers = 500000\n",
    "n_initial_infected = 50000 # 10% of infected passengers\n",
    "n_iters = 20 * 60 # 20 hours * 60 minutes\n",
    "p_infection = 0.005 # Probability of getting infected if a passenger is in contact with an infected one\n",
    "max_scale = 50000 # In the scale of colors, this is the max value\n",
    "\n",
    "# Build network objects\n",
    "network = RailwayNetwork(n_passengers, open_time, close_time, w_times, w_lines, w_stations,\n",
    "                         timetable, connections, n_initial_infected, p_infection, auto_reset=False)\n",
    "stations = {st_name:Station(network, st_name, w_stations) for st_name in station_names}\n",
    "lines = {line_name:Line(network, line_name, w_lines) for line_name in w_lines.index}\n",
    "\n",
    "network.init_network(lines, stations, debug=True)"
   ]
  },
  {
   "cell_type": "code",
   "execution_count": 12,
   "metadata": {},
   "outputs": [],
   "source": [
    "# Build network graph\n",
    "G = nx.Graph()\n",
    "G.add_nodes_from(station2id.values())\n",
    "\n",
    "# Add attributes to nodes\n",
    "for st_name, node_id in station2id.items():\n",
    "    pos_x = station_coords.at[st_name, 'X']\n",
    "    pos_y = station_coords.at[st_name, 'Y']\n",
    "    G.add_node(node_id, pos=(pos_x, pos_y), station=stations[st_name])\n",
    "\n",
    "# Add edges\n",
    "for i, row in connections.iterrows():\n",
    "    node_from = station2id[i[1]]\n",
    "    node_to = station2id[row['TO_STATION']]\n",
    "    \n",
    "    G.add_edge(node_from, node_to)\n",
    "\n",
    "# Color mapping for nodes\n",
    "cmap = plt.cm.jet\n",
    "cmaplist = [cmap(i) for i in range(cmap.N)]\n",
    "cmaplist[0] = (.5, .5, .5, 1.0) # Force the first color entry to be grey\n",
    "\n",
    "# create the new map\n",
    "cmap = mpl.colors.LinearSegmentedColormap.from_list('Custom cmap', cmaplist, cmap.N)\n",
    "cmap.set_over('#811a17')\n",
    "\n",
    "# define the bins and normalize\n",
    "bounds = np.linspace(0, max_scale)\n",
    "norm = mpl.colors.BoundaryNorm(bounds, cmap.N)"
   ]
  },
  {
   "cell_type": "code",
   "execution_count": 13,
   "metadata": {},
   "outputs": [
    {
     "name": "stdout",
     "output_type": "stream",
     "text": [
      "1200 of 1200           \n",
      "Simulation finished!           \n"
     ]
    }
   ],
   "source": [
    "# Display how the number of infected passengers change on each station\n",
    "\n",
    "pos = nx.get_node_attributes(G, 'pos')\n",
    "network.reset()\n",
    "\n",
    "for i in range(n_iters):\n",
    "    print('\\r%d of %d' % (i + 1, n_iters), ' '*10, end='')\n",
    "    \n",
    "    network.step()\n",
    "    \n",
    "    fig = plt.figure(figsize=(12, 12))\n",
    "    ax = fig.add_subplot(1, 1, 1)\n",
    "    \n",
    "    ax.set_title('%sh' % network.get_time().strftime('%H:%M'))\n",
    "\n",
    "    colors = [s.get_n_infections() for node_id, s in nx.get_node_attributes(G, 'station').items()]\n",
    "\n",
    "    ec = nx.draw_networkx_edges(G, pos, alpha=0.2)\n",
    "    nc = nx.draw_networkx_nodes(G, pos, nodelist=G.nodes, node_color=colors, \n",
    "                                with_labels=False, node_size=100, cmap=cmap, norm=norm, vmax=max_scale)\n",
    "    fig.colorbar(nc, extend='max', ax=ax)\n",
    "    \n",
    "    fig.savefig('%s%s.png' % (INFECTION_IMAGES_PATH, network.get_time().strftime('%H-%M')))\n",
    "    plt.close(fig)\n",
    "\n",
    "print('')\n",
    "print('Simulation finished!', ' '*10)"
   ]
  },
  {
   "cell_type": "markdown",
   "metadata": {},
   "source": [
    "### Evaluation of infection simulation"
   ]
  },
  {
   "cell_type": "code",
   "execution_count": 14,
   "metadata": {},
   "outputs": [
    {
     "name": "stdout",
     "output_type": "stream",
     "text": [
      "R0 value: 5.0600\n"
     ]
    }
   ],
   "source": [
    "# Average R0\n",
    "r0 = []\n",
    "infected_passengers = [passenger for passenger in network.get_passengers() if passenger.get_infected_status() == 2]\n",
    "for passenger in infected_passengers:\n",
    "    r0.append(passenger.get_n_infections())\n",
    "\n",
    "r0 = st.mean(r0) if len(r0) > 0 else 0\n",
    "print('R0 value: %.4f' % r0)"
   ]
  },
  {
   "cell_type": "code",
   "execution_count": 21,
   "metadata": {},
   "outputs": [
    {
     "name": "stdout",
     "output_type": "stream",
     "text": [
      "1 - ATOCHA -> 48372\n",
      "2 - NUEVOS MINISTERIOS -> 15590\n",
      "3 - SOL -> 8904\n",
      "4 - CHAMARTIN -> 8863\n",
      "5 - PRINCIPE PIO -> 5013\n",
      "6 - MENDEZ ALVARO -> 4107\n",
      "7 - PARLA -> 3884\n",
      "8 - RECOLETOS -> 3421\n",
      "9 - ARAVACA -> 2542\n",
      "10 - VILLAVERDE ALTO -> 2533\n",
      "11 - PIRAMIDES -> 2143\n",
      "12 - RAMON Y CAJAL -> 1975\n",
      "13 - VILLALBA -> 1972\n",
      "14 - CANTOBLANCO UNIVERSIDAD -> 1822\n",
      "15 - POZUELO -> 1402\n",
      "16 - GETAFE CENTRO -> 1397\n",
      "17 - VILLAVERDE BAJO -> 1373\n",
      "18 - DELICIAS -> 1306\n",
      "19 - ROZAS LAS -> 1232\n",
      "20 - FUENTE DE LA MORA -> 1128\n"
     ]
    }
   ],
   "source": [
    "# Ranking of most dangerous stations\n",
    "top = 20\n",
    "ranking_stations = sorted(stations.values(), key=lambda s: s.get_n_infections(), reverse=True)\n",
    "\n",
    "for i, s in enumerate(ranking_stations[0:top]):\n",
    "    print('%d - %s -> %d' % (i + 1, s.get_name(), s.get_n_infections()))"
   ]
  },
  {
   "cell_type": "code",
   "execution_count": 60,
   "metadata": {},
   "outputs": [
    {
     "data": {
      "image/png": "[encoded data removed]",
      "text/plain": [
       "<Figure size 432x432 with 1 Axes>"
      ]
     },
     "metadata": {},
     "output_type": "display_data"
    }
   ],
   "source": [
    "ranking_station_names = [s.get_name() for s in ranking_stations[0:top]]\n",
    "ranking_station_values = [s.get_n_infections() for s in ranking_stations[0:top]]\n",
    "\n",
    "fig = plt.figure(figsize=(6, 6))\n",
    "plt.bar(ranking_station_names, ranking_station_values)\n",
    "plt.xticks(ranking_station_names, rotation='vertical')\n",
    "plt.show()\n",
    "plt.close(fig)"
   ]
  },
  {
   "cell_type": "code",
   "execution_count": 108,
   "metadata": {},
   "outputs": [
    {
     "data": {
      "image/png": "[encoded data removed]",
      "text/plain": [
       "<Figure size 576x432 with 1 Axes>"
      ]
     },
     "metadata": {},
     "output_type": "display_data"
    }
   ],
   "source": [
    "# Number of infections in a timeline\n",
    "\n",
    "time_window = '15Min'\n",
    "\n",
    "time_infections = []\n",
    "for name, s in stations.items():\n",
    "    time_infections = time_infections + s.get_time_infections()\n",
    "\n",
    "# Note: In case that you want to see the number of infection in a specific station, uncomment this code.\n",
    "# Note 2: You may need to set a wider time window if you plot the station data.\n",
    "# time_infections = network.get_stations()[<STATION-NAME-HERE>].get_time_infections()\n",
    "\n",
    "# Use Pandas as it is easier to group by time interval\n",
    "df = pd.DataFrame(time_infections, columns=['Time'])\n",
    "df['Value'] = 1\n",
    "df = df.groupby('Time').sum()\n",
    "df.index = pd.to_timedelta(df.index.astype(str))\n",
    "df = df.resample(time_window, base=0).sum()\n",
    "\n",
    "# Function to format TimeDelta objects\n",
    "def strfdelta(tdelta, fmt):\n",
    "    d = {'days': tdelta.days}\n",
    "    d['hours'], rem = divmod(tdelta.seconds, 3600)\n",
    "    d['minutes'], d['seconds'] = divmod(rem, 60)\n",
    "    d['minutes'] = d['minutes'] if d['minutes'] >= 10 else '0%d' % d['minutes']\n",
    "    return fmt.format(**d)\n",
    "\n",
    "x_labels = [strfdelta(t, '{hours}:{minutes}h') for t in df.index]\n",
    "\n",
    "fig = plt.figure(figsize=(8, 6))\n",
    "ax = fig.add_subplot(1, 1, 1)\n",
    "plt.plot(x_labels, df['Value'], label='Infections')\n",
    "plt.xticks(rotation=45)\n",
    "plt.legend()\n",
    "plt.grid()\n",
    "ax.xaxis.set_major_locator(plt.MaxNLocator(24))\n",
    "plt.show()\n",
    "plt.close(fig)"
   ]
  },
  {
   "cell_type": "code",
   "execution_count": null,
   "metadata": {},
   "outputs": [],
   "source": []
  }
 ],
 "metadata": {
  "kernelspec": {
   "display_name": "Python 3",
   "language": "python",
   "name": "python3"
  },
  "language_info": {
   "codemirror_mode": {
    "name": "ipython",
    "version": 3
   },
   "file_extension": ".py",
   "mimetype": "text/x-python",
   "name": "python",
   "nbconvert_exporter": "python",
   "pygments_lexer": "ipython3",
   "version": "3.7.6"
  }
 },
 "nbformat": 4,
 "nbformat_minor": 4
}
