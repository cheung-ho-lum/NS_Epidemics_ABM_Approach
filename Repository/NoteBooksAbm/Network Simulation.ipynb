{
 "cells": [
  {
   "cell_type": "code",
   "execution_count": null,
   "metadata": {},
   "outputs": [],
   "source": [
    "import networkx as nx\n",
    "import pandas as pd\n",
    "import numpy as np\n",
    "import datetime\n",
    "import random\n",
    "import pickle\n",
    "import os\n",
    "import time\n",
    "from decimal import Decimal as D\n",
    "from decimal import ROUND_DOWN\n",
    "\n",
    "import matplotlib.pyplot as plt\n",
    "import matplotlib as mpl\n",
    "import matplotlib.animation as animation\n",
    "\n",
    "from lib.Line import Line\n",
    "from lib.Station import Station\n",
    "from lib.Platform import Platform\n",
    "from lib.Passenger import Passenger\n",
    "from lib.Train import Train\n",
    "from lib.RailwayNetwork import RailwayNetwork"
   ]
  },
  {
   "cell_type": "markdown",
   "metadata": {},
   "source": [
    "## Load raw data of passengers\n",
    "\n",
    "Raw data with the number of in-out passengers per station and time window."
   ]
  },
  {
   "cell_type": "code",
   "execution_count": null,
   "metadata": {},
   "outputs": [],
   "source": [
    "DATA_PATH = '../Data/madrid/'\n",
    "PARSED_PATH = DATA_PATH + 'parsed/'\n",
    "IMAGES_PATH = DATA_PATH + 'images/'\n",
    "\n",
    "if not os.path.exists(IMAGES_PATH):\n",
    "    os.mkdir(IMAGES_PATH)"
   ]
  },
  {
   "cell_type": "code",
   "execution_count": null,
   "metadata": {},
   "outputs": [],
   "source": [
    "connections = pd.read_csv(PARSED_PATH + 'station_connections.csv', index_col=False)\n",
    "timetable = pd.read_csv(PARSED_PATH + 'timetable.csv', index_col=False)\n",
    "w_lines = pd.read_csv(PARSED_PATH + 'line_weights.csv', index_col=False)\n",
    "w_times = pd.read_csv(PARSED_PATH + 'times_weights.csv', index_col=False)\n",
    "w_stations = pd.read_csv(PARSED_PATH + 'station_weights.csv', index_col=False)\n",
    "station_coords = pd.read_csv(PARSED_PATH + 'station_coords.csv', index_col=False)"
   ]
  },
  {
   "cell_type": "code",
   "execution_count": null,
   "metadata": {},
   "outputs": [],
   "source": [
    "# Transform strings to time objects\n",
    "timetable['ARRIVAL_TIME'] = pd.to_datetime(timetable['ARRIVAL_TIME'])\n",
    "timetable['ARRIVAL_TIME'] = [t.time() for t in timetable['ARRIVAL_TIME']]\n",
    "\n",
    "timetable['DEPARTURE_TIME'] = pd.to_datetime(timetable['DEPARTURE_TIME'])\n",
    "timetable['DEPARTURE_TIME'] = [t.time() for t in timetable['DEPARTURE_TIME']]\n",
    "\n",
    "w_times['TIME'] = pd.to_datetime(w_times['TIME'])\n",
    "w_times['TIME'] = [t.time() for t in w_times['TIME']]\n",
    "w_times['WEIGHT_IN'] = [D(w) for w in w_times['WEIGHT_IN']]\n",
    "\n",
    "w_lines['WEIGHT_IN'] = [D(w) for w in w_lines['WEIGHT_IN']]\n",
    "w_lines['WEIGHT_OUT'] = [D(w) for w in w_lines['WEIGHT_OUT']]\n",
    "\n",
    "w_stations['TIME'] = pd.to_datetime(w_stations['TIME'])\n",
    "w_stations['TIME'] = [t.time() for t in w_stations['TIME']]\n",
    "w_stations['WEIGHT_IN'] = [D(w) for w in w_stations['WEIGHT_IN']]\n",
    "w_stations['WEIGHT_OUT'] = [D(w) for w in w_stations['WEIGHT_OUT']]"
   ]
  },
  {
   "cell_type": "code",
   "execution_count": null,
   "metadata": {},
   "outputs": [],
   "source": [
    "# Cast values\n",
    "connections = connections.astype({'DIRECTION': 'int32'})\n",
    "timetable = timetable.astype({'IS_START': 'int32', 'IS_END': 'int32', 'DIRECTION': 'int32'})\n",
    "station_coords = station_coords.astype({'X': 'float', 'Y': 'float'})"
   ]
  },
  {
   "cell_type": "code",
   "execution_count": null,
   "metadata": {},
   "outputs": [],
   "source": [
    "# Set indexes\n",
    "connections = connections.set_index(['LINE', 'FROM_STATION'])\n",
    "timetable = timetable.set_index(['LINE', 'STATION_NAME'])\n",
    "w_lines = w_lines.set_index(['LINE'])\n",
    "w_times = w_times.set_index(['TIME'])\n",
    "w_stations = w_stations.set_index(['LINE', 'STATION_NAME', 'TIME'])\n",
    "station_coords = station_coords.set_index(['STATION_NAME'])"
   ]
  },
  {
   "cell_type": "code",
   "execution_count": null,
   "metadata": {},
   "outputs": [],
   "source": [
    "w_stations.head()"
   ]
  },
  {
   "cell_type": "markdown",
   "metadata": {},
   "source": [
    "## Build dictionaries"
   ]
  },
  {
   "cell_type": "code",
   "execution_count": null,
   "metadata": {},
   "outputs": [],
   "source": [
    "station_names = connections.reset_index()['FROM_STATION'].unique()"
   ]
  },
  {
   "cell_type": "code",
   "execution_count": null,
   "metadata": {},
   "outputs": [],
   "source": [
    "# Build dictionary: name of stations -> numerical ID\n",
    "station2id = {st_name:i for i, st_name in enumerate(station_names)}\n",
    "id2station = {i:st_name for i, st_name in enumerate(station_names)}"
   ]
  },
  {
   "cell_type": "code",
   "execution_count": null,
   "metadata": {},
   "outputs": [],
   "source": [
    "# Example of getting a value of a line-station in a specific time\n",
    "k_time = datetime.time(15, 0) # 15PM\n",
    "w_stations.loc[('C5', 'ATOCHA', k_time), 'WEIGHT_IN']"
   ]
  },
  {
   "cell_type": "markdown",
   "metadata": {},
   "source": [
    "## Build objects of network"
   ]
  },
  {
   "cell_type": "code",
   "execution_count": null,
   "metadata": {},
   "outputs": [],
   "source": [
    "# Time of service (set to None if it never closes)\n",
    "open_time = datetime.time(5, 0) # 5AM\n",
    "close_time = datetime.time(1, 0) # 1AM\n",
    "\n",
    "n_passengers = 400000\n",
    "\n",
    "network = RailwayNetwork(n_passengers, open_time, close_time, w_times, w_lines, w_stations, timetable, connections)"
   ]
  },
  {
   "cell_type": "code",
   "execution_count": null,
   "metadata": {},
   "outputs": [],
   "source": [
    "# Demo\n",
    "s = Station(network, 'FUENLABRADA', w_stations)\n",
    "print(s.get_weight(line_name='C5'))"
   ]
  },
  {
   "cell_type": "code",
   "execution_count": null,
   "metadata": {},
   "outputs": [],
   "source": [
    "# Build station objects\n",
    "stations = {st_name:Station(network, st_name, w_stations) for st_name in station_names}"
   ]
  },
  {
   "cell_type": "code",
   "execution_count": null,
   "metadata": {},
   "outputs": [],
   "source": [
    "# Build line objects\n",
    "lines = {line_name:Line(network, line_name, w_lines) for line_name in w_lines.index}"
   ]
  },
  {
   "cell_type": "code",
   "execution_count": null,
   "metadata": {},
   "outputs": [],
   "source": [
    "# Once every object is created, add to them to the network and init it\n",
    "network.init_network(lines, stations, debug=True)"
   ]
  },
  {
   "cell_type": "code",
   "execution_count": null,
   "metadata": {},
   "outputs": [],
   "source": [
    "routes = timetable.reset_index(level=['LINE', 'STATION_NAME'])\n",
    "routes = routes.loc[(routes['LINE'] == 'C5') &\n",
    "                    (routes['STATION_NAME'] == 'FUENLABRADA') &\n",
    "                    (routes['DIRECTION'] == 1)]\n",
    "departure_times = routes.loc[routes['IS_END'] != 1]['DEPARTURE_TIME'].tolist()\n",
    "\n",
    "departure_times.sort()\n",
    "\n",
    "if departure_times[0] < network.close_time and departure_times[-1] > network.close_time:\n",
    "    while departure_times[0] < network.close_time:\n",
    "        t_departure = departure_times.pop(0)\n",
    "        departure_times.append(t_departure)\n",
    "\n",
    "departure_times"
   ]
  },
  {
   "cell_type": "code",
   "execution_count": null,
   "metadata": {},
   "outputs": [],
   "source": [
    "\"\"\"with open(PARSED_PATH + 'network.pickle', 'wb') as fp:\n",
    "    pickle.dump(network, fp, pickle.HIGHEST_PROTOCOL)\"\"\""
   ]
  },
  {
   "cell_type": "code",
   "execution_count": null,
   "metadata": {},
   "outputs": [],
   "source": [
    "\"\"\"with open(PARSED_PATH + 'network.pickle', 'rb') as fp:\n",
    "    network = pickle.load(fp)\"\"\""
   ]
  },
  {
   "cell_type": "markdown",
   "metadata": {},
   "source": [
    "## Build graph"
   ]
  },
  {
   "cell_type": "code",
   "execution_count": null,
   "metadata": {},
   "outputs": [],
   "source": [
    "G = nx.Graph()\n",
    "\n",
    "G.add_nodes_from(station2id.values())\n",
    "\n",
    "# Add attributes to nodes\n",
    "for st_name, node_id in station2id.items():\n",
    "    pos_x = station_coords.at[st_name, 'X']\n",
    "    pos_y = station_coords.at[st_name, 'Y']\n",
    "    G.add_node(node_id, pos=(pos_x, pos_y), station=stations[st_name])\n",
    "\n",
    "# Add edges\n",
    "for i, row in connections.iterrows():\n",
    "    node_from = station2id[i[1]]\n",
    "    node_to = station2id[row['TO_STATION']]\n",
    "    \n",
    "    G.add_edge(node_from, node_to)"
   ]
  },
  {
   "cell_type": "code",
   "execution_count": null,
   "metadata": {},
   "outputs": [],
   "source": [
    "MAX_VALUE = 150\n",
    "\n",
    "# Color mapping for nodes\n",
    "cmap = plt.cm.jet  # define the colormap\n",
    "# extract all colors from the .jet map\n",
    "cmaplist = [cmap(i) for i in range(cmap.N)]\n",
    "# force the first color entry to be grey\n",
    "cmaplist[0] = (.5, .5, .5, 1.0)\n",
    "\n",
    "# create the new map\n",
    "cmap = mpl.colors.LinearSegmentedColormap.from_list('Custom cmap', cmaplist, cmap.N)\n",
    "cmap.set_over('#811a17')\n",
    "\n",
    "# define the bins and normalize\n",
    "bounds = np.linspace(0, MAX_VALUE)\n",
    "norm = mpl.colors.BoundaryNorm(bounds, cmap.N)"
   ]
  },
  {
   "cell_type": "code",
   "execution_count": null,
   "metadata": {},
   "outputs": [],
   "source": [
    "fig = plt.figure(figsize=(12,12))\n",
    "ax = fig.add_subplot(1,1,1)\n",
    "ax.set_title('%sh' % network.get_time().strftime('%H:%M'))\n",
    "\n",
    "pos = nx.get_node_attributes(G, 'pos')\n",
    "\n",
    "colors = [s.get_n_passengers() for node_id, s in nx.get_node_attributes(G, 'station').items()]\n",
    "\n",
    "ec = nx.draw_networkx_edges(G, pos, alpha=0.2)\n",
    "nc = nx.draw_networkx_nodes(G, pos, nodelist=G.nodes, node_color=colors, \n",
    "                            with_labels=False, node_size=100, cmap=cmap, norm=norm, vmax=MAX_VALUE)\n",
    "fig.colorbar(nc, extend='max')"
   ]
  },
  {
   "cell_type": "markdown",
   "metadata": {},
   "source": [
    "## Run one-day simulation"
   ]
  },
  {
   "cell_type": "code",
   "execution_count": null,
   "metadata": {},
   "outputs": [],
   "source": [
    "network.reset_network()"
   ]
  },
  {
   "cell_type": "code",
   "execution_count": null,
   "metadata": {},
   "outputs": [],
   "source": [
    "# Display how the number of passengers change in a station\n",
    "\n",
    "n_iters = 20 * 60 # 20 hours * 60 minutes\n",
    "\n",
    "pos = nx.get_node_attributes(G, 'pos')\n",
    "\n",
    "network.reset_network()\n",
    "\n",
    "for i in range(n_iters):\n",
    "    print('\\r%d of %d' % (i + 1, n_iters), ' '*10, end='')\n",
    "    \n",
    "    network.step()\n",
    "    \n",
    "    fig = plt.figure(figsize=(12,12))\n",
    "    ax = fig.add_subplot(1,1,1)\n",
    "    \n",
    "    ax.set_title('%sh' % network.get_time().strftime('%H:%M'))\n",
    "\n",
    "    colors = [s.get_n_passengers() for node_id, s in nx.get_node_attributes(G, 'station').items()]\n",
    "\n",
    "    ec = nx.draw_networkx_edges(G, pos, alpha=0.2)\n",
    "    nc = nx.draw_networkx_nodes(G, pos, nodelist=G.nodes, node_color=colors, \n",
    "                                with_labels=False, node_size=100, cmap=cmap, norm=norm, vmax=MAX_VALUE)\n",
    "    fig.colorbar(nc, extend='max', ax=ax)\n",
    "    \n",
    "    fig.savefig('%s%s.png' % (IMAGES_PATH, network.get_time().strftime('%H-%M')))\n",
    "    plt.close(fig)\n",
    "    \n",
    "print('Finish!', ' '*10)"
   ]
  },
  {
   "cell_type": "code",
   "execution_count": null,
   "metadata": {},
   "outputs": [],
   "source": []
  }
 ],
 "metadata": {
  "kernelspec": {
   "display_name": "Python 3",
   "language": "python",
   "name": "python3"
  },
  "language_info": {
   "codemirror_mode": {
    "name": "ipython",
    "version": 3
   },
   "file_extension": ".py",
   "mimetype": "text/x-python",
   "name": "python",
   "nbconvert_exporter": "python",
   "pygments_lexer": "ipython3",
   "version": "3.7.6"
  }
 },
 "nbformat": 4,
 "nbformat_minor": 4
}
